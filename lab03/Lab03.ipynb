{
 "cells": [
  {
   "cell_type": "code",
   "execution_count": 1,
   "metadata": {},
   "outputs": [],
   "source": [
    "import numpy as np\n",
    "from sklearn.preprocessing import StandardScaler\n",
    "\n",
    "\n",
    "def PCA(X: np.ndarray, dim: int) -> np.ndarray:\n",
    "    # Z-normalize data\n",
    "    sc = StandardScaler()\n",
    "    Z = sc.fit_transform(X)\n",
    "    # Estimate the correlation matrix\n",
    "    R = np.dot(Z.T, Z) / X.shape[0]\n",
    "\n",
    "    # Calculate the eigen values, eigen vectors\n",
    "    eigen_vals, eigen_vecs = np.linalg.eigh(R)\n",
    "\n",
    "    # Make a list of (eigenvalue, eigenvector) tuples\n",
    "    eigen_pairs = [\n",
    "        (np.abs(eigen_vals[i]), eigen_vecs[:, i])\n",
    "        for i in range(len(eigen_vals))\n",
    "    ]\n",
    "\n",
    "    # Sort the (eigenvalue, eigenvector) tuples from high to low\n",
    "    eigen_pairs.sort(reverse=True)\n",
    "\n",
    "    W = np.hstack([eigen_pairs[i][1][:, np.newaxis] for i in range(dim)])\n",
    "\n",
    "    Z_pca = np.dot(Z, W)\n",
    "    return Z_pca"
   ]
  },
  {
   "cell_type": "code",
   "execution_count": 2,
   "metadata": {},
   "outputs": [],
   "source": [
    "from sklearn.model_selection import train_test_split\n",
    "from sklearn.metrics import accuracy_score\n",
    "from sklearn.tree import DecisionTreeClassifier\n",
    "from sklearn.ensemble import RandomForestClassifier\n",
    "from typing import Literal\n",
    "\n",
    "\n",
    "def train_and_test(X, y, model_type=[\"decision_tree\", \"random_forest\"]):\n",
    "    # split X into training and testing sets\n",
    "    X_train, X_test, y_train, y_test = train_test_split(\n",
    "        X, y, test_size=0.3, random_state=0\n",
    "    )\n",
    "\n",
    "    # Train a RandomForestClassifier as model\n",
    "    if model_type == \"decision_tree\":\n",
    "        cls = DecisionTreeClassifier(criterion=\"entropy\", random_state=1)\n",
    "    elif model_type == \"random_forest\":\n",
    "        cls = RandomForestClassifier(\n",
    "            criterion=\"entropy\", n_estimators=200, random_state=1, n_jobs=2\n",
    "        )\n",
    "    else:\n",
    "        raise ValueError(\"Invalid model_type.\")\n",
    "    cls.fit(X_train, y_train)\n",
    "\n",
    "    y_pred = cls.predict(X_test)\n",
    "    print(\"Accuracy: %.2f\" % accuracy_score(y_test, y_pred))\n",
    "    print(\n",
    "        \"Accuracy per feature: %.2f\"\n",
    "        % (accuracy_score(y_test, y_pred) / X.shape[1])\n",
    "    )"
   ]
  },
  {
   "cell_type": "code",
   "execution_count": 3,
   "metadata": {},
   "outputs": [],
   "source": [
    "from sklearn.datasets import load_breast_cancer\n",
    "import pandas as pd\n",
    "\n",
    "# load the breast_cancer dataset\n",
    "init_data = load_breast_cancer()\n",
    "(X, y) = load_breast_cancer(return_X_y=True)\n",
    "X = pd.DataFrame(data=X, columns=init_data[\"feature_names\"])\n",
    "y = pd.DataFrame(data=y, columns=[\"label\"])"
   ]
  },
  {
   "cell_type": "code",
   "execution_count": 4,
   "metadata": {},
   "outputs": [
    {
     "name": "stdout",
     "output_type": "stream",
     "text": [
      "Accuracy: 0.98\n",
      "Accuracy per feature: 0.03\n"
     ]
    },
    {
     "name": "stderr",
     "output_type": "stream",
     "text": [
      "/opt/miniconda3/envs/dl0/lib/python3.10/site-packages/sklearn/base.py:1152: DataConversionWarning: A column-vector y was passed when a 1d array was expected. Please change the shape of y to (n_samples,), for example using ravel().\n",
      "  return fit_method(estimator, *args, **kwargs)\n"
     ]
    }
   ],
   "source": [
    "train_and_test(X, y, \"random_forest\")"
   ]
  },
  {
   "cell_type": "code",
   "execution_count": 5,
   "metadata": {},
   "outputs": [
    {
     "name": "stdout",
     "output_type": "stream",
     "text": [
      "Accuracy: 0.88\n",
      "Accuracy per feature: 0.44\n"
     ]
    }
   ],
   "source": [
    "# train and test the model after applying PCA\n",
    "train_and_test(PCA(X, 2), y, \"decision_tree\")"
   ]
  }
 ],
 "metadata": {
  "kernelspec": {
   "display_name": "dl0",
   "language": "python",
   "name": "python3"
  },
  "language_info": {
   "codemirror_mode": {
    "name": "ipython",
    "version": 3
   },
   "file_extension": ".py",
   "mimetype": "text/x-python",
   "name": "python",
   "nbconvert_exporter": "python",
   "pygments_lexer": "ipython3",
   "version": "3.10.14"
  }
 },
 "nbformat": 4,
 "nbformat_minor": 2
}
