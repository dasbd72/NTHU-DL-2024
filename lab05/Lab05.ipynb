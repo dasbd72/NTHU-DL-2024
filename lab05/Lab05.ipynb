{
 "cells": [
  {
   "cell_type": "code",
   "execution_count": 1,
   "metadata": {},
   "outputs": [
    {
     "name": "stdout",
     "output_type": "stream",
     "text": [
      "(85751, 8)\n",
      "Index(['PERIOD', 'GAME_CLOCK', 'SHOT_CLOCK', 'DRIBBLES', 'TOUCH_TIME',\n",
      "       'SHOT_DIST', 'PTS_TYPE', 'CLOSE_DEF_DIST'],\n",
      "      dtype='object')\n",
      "Index(['FGM'], dtype='object')\n"
     ]
    }
   ],
   "source": [
    "import pandas as pd\n",
    "import numpy as np\n",
    "import urllib.request\n",
    "import os\n",
    "\n",
    "os.makedirs(\"./data\", exist_ok=True)\n",
    "\n",
    "if not os.path.exists(\"./data/X_train.csv\"):\n",
    "    urllib.request.urlretrieve(\n",
    "        \"https://nthu-datalab.github.io/ml/labs/05_Regularization/data/X_train.csv\",\n",
    "        \"./data/X_train.csv\",\n",
    "    )\n",
    "if not os.path.exists(\"./data/y_train.csv\"):\n",
    "    urllib.request.urlretrieve(\n",
    "        \"https://nthu-datalab.github.io/ml/labs/05_Regularization/data/y_train.csv\",\n",
    "        \"./data/y_train.csv\",\n",
    "    )\n",
    "if not os.path.exists(\"./data/X_test.csv\"):\n",
    "    urllib.request.urlretrieve(\n",
    "        \"https://nthu-datalab.github.io/ml/labs/05_Regularization/data/X_test.csv\",\n",
    "        \"./data/X_test.csv\",\n",
    "    )\n",
    "\n",
    "X_train = pd.read_csv(\"./data/X_train.csv\")\n",
    "y_train = pd.read_csv(\"./data/y_train.csv\")\n",
    "X_test = pd.read_csv(\"./data/X_test.csv\")\n",
    "\n",
    "print(X_train.shape)\n",
    "print(X_train.columns)\n",
    "print(y_train.columns)"
   ]
  }
 ],
 "metadata": {
  "kernelspec": {
   "display_name": "dl0",
   "language": "python",
   "name": "python3"
  },
  "language_info": {
   "codemirror_mode": {
    "name": "ipython",
    "version": 3
   },
   "file_extension": ".py",
   "mimetype": "text/x-python",
   "name": "python",
   "nbconvert_exporter": "python",
   "pygments_lexer": "ipython3",
   "version": "3.10.14"
  }
 },
 "nbformat": 4,
 "nbformat_minor": 2
}
